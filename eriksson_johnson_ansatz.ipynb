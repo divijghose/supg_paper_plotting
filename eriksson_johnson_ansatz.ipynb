{
 "cells": [
  {
   "cell_type": "code",
   "execution_count": 2,
   "metadata": {},
   "outputs": [],
   "source": [
    "import matplotlib.pyplot as plt\n",
    "import numpy as np\n",
    "import math\n",
    "from matplotlib import cm\n",
    "from matplotlib.ticker import LinearLocator"
   ]
  },
  {
   "cell_type": "code",
   "execution_count": 3,
   "metadata": {},
   "outputs": [],
   "source": [
    "x = np.linspace(0, 1, 1000)\n",
    "y = np.linspace(0, 1, 1000)\n",
    "X, Y = np.meshgrid(x, y)\n",
    "\n",
    "j = np.sin(np.pi*Y)*np.cos(np.pi*X/2.0)\n",
    "k1 = 30.0\n",
    "eps_list = [0.1, 0.01, 0.001]\n",
    "k2_list = [10/eps for eps in eps_list]\n",
    "h = {}\n",
    "for i, k2 in enumerate(k2_list):\n",
    "    h[i] = (1 - np.exp(-k1*X))*(1 - np.exp(-k2*Y))*(1 - np.exp(-k1*(1-X)))*(1 - np.exp(-k2*(1-Y)))\n",
    "\n"
   ]
  },
  {
   "cell_type": "code",
   "execution_count": 9,
   "metadata": {},
   "outputs": [
    {
     "data": {
      "image/png": "[encoded data removed]",
      "text/plain": [
       "<Figure size 500x400 with 8 Axes>"
      ]
     },
     "metadata": {},
     "output_type": "display_data"
    }
   ],
   "source": [
    "plt.rcParams[\"text.usetex\"] = True\n",
    "plt.rcParams[\"font.family\"] = \"serif\"\n",
    "plt.rcParams[\"font.serif\"] = [\"Computer Modern\"]\n",
    "plt.rcParams['xtick.labelsize'] = 11\n",
    "plt.rcParams['axes.titlesize'] = 11\n",
    "plt.rcParams['axes.labelsize'] = 11\n",
    "\n",
    "plt.rcParams['legend.fontsize'] = 11\n",
    "plt.rcParams['ytick.labelsize'] = 11\n",
    "plt.rcParams['xtick.labelsize'] = 11\n",
    "\n",
    "fig, ax= plt.subplots(2, 2, figsize=(5, 4))\n",
    "ax1 = ax[0,0]\n",
    "ax2 = ax[0,1]\n",
    "ax3 = ax[1,0]\n",
    "ax4 = ax[1,1]\n",
    "\n",
    "ax1.contourf(X, Y, j, cmap=cm.jet, levels=50)\n",
    "ax1.set_title(r'$(a)$')\n",
    "ax1.set_ylabel(r'$y$')\n",
    "ax1.set_xticks([0, 0.5, 1])\n",
    "ax1.set_yticks([0, 0.5, 1])\n",
    "ax1.set_xticklabels([r'$0$', r'$0.5$', r'$1$'])\n",
    "ax1.set_yticklabels([r'$0$', r'$0.5$', r'$1$'])\n",
    "#add colorbar\n",
    "cbar1 = fig.colorbar(cm.ScalarMappable(cmap=cm.jet), ax=ax1, orientation='vertical', shrink=1)\n",
    "cbar1.set_ticks([0, 0.5, 1])\n",
    "\n",
    "ax2.contourf(X, Y, h[0], cmap=cm.jet, levels=50)\n",
    "ax2.set_title(r'$(b)$')\n",
    "ax2.set_xticks([0, 0.5, 1])\n",
    "ax2.set_yticks([0, 0.5, 1])\n",
    "ax2.set_xticklabels([r'$0$', r'$0.5$', r'$1$'])\n",
    "ax2.set_yticklabels([r'$0$', r'$0.5$', r'$1$'])\n",
    "#add colorbar\n",
    "cbar2 = fig.colorbar(cm.ScalarMappable(cmap=cm.jet), ax=ax2, orientation='vertical', shrink=1)\n",
    "cbar2.set_ticks([0, 0.5, 1])\n",
    "\n",
    "ax3.contourf(X, Y, h[1], cmap=cm.jet, levels=50)\n",
    "ax3.set_title(r'$(c)$')\n",
    "ax3.set_xlabel(r'$x$')\n",
    "ax3.set_ylabel(r'$y$')\n",
    "ax3.set_xticks([0, 0.5, 1])\n",
    "ax3.set_yticks([0, 0.5, 1])\n",
    "ax3.set_xticklabels([r'$0$', r'$0.5$', r'$1$'])\n",
    "ax3.set_yticklabels([r'$0$', r'$0.5$', r'$1$'])\n",
    "#add colorbar\n",
    "cbar3 = fig.colorbar(cm.ScalarMappable(cmap=cm.jet), ax=ax3, orientation='vertical', shrink=1)\n",
    "cbar3.set_ticks([0, 0.5, 1])\n",
    "\n",
    "ax4.contourf(X, Y, h[2], cmap=cm.jet, levels=50)\n",
    "ax4.set_title(r'$(d)$')\n",
    "ax4.set_xlabel(r'$x$')\n",
    "ax4.set_xticks([0, 0.5, 1])\n",
    "ax4.set_yticks([0, 0.5, 1])\n",
    "ax4.set_xticklabels([r'$0$', r'$0.5$', r'$1$'])\n",
    "ax4.set_yticklabels([r'$0$', r'$0.5$', r'$1$'])\n",
    "#add colorbar\n",
    "cbar4 = fig.colorbar(cm.ScalarMappable(cmap=cm.jet), ax=ax4, orientation='vertical', shrink=1)\n",
    "cbar4.set_ticks([0, 0.5, 1])\n",
    "plt.tight_layout()\n",
    "plt.savefig('ej_ansatz.png', dpi=300, bbox_inches='tight')"
   ]
  }
 ],
 "metadata": {
  "kernelspec": {
   "display_name": "plotting",
   "language": "python",
   "name": "python3"
  },
  "language_info": {
   "codemirror_mode": {
    "name": "ipython",
    "version": 3
   },
   "file_extension": ".py",
   "mimetype": "text/x-python",
   "name": "python",
   "nbconvert_exporter": "python",
   "pygments_lexer": "ipython3",
   "version": "3.9.18"
  }
 },
 "nbformat": 4,
 "nbformat_minor": 2
}
